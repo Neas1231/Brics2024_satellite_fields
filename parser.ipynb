{
 "cells": [
  {
   "cell_type": "code",
   "execution_count": 18,
   "id": "702e1bd7-c1e0-42ec-8ba3-a903e77e3c71",
   "metadata": {},
   "outputs": [],
   "source": [
    "import selenium\n",
    "from selenium import webdriver\n",
    "from selenium.webdriver.common.by import By\n",
    "from selenium.webdriver.support.ui import WebDriverWait\n",
    "from selenium.webdriver.support import expected_conditions as EC\n",
    "from selenium.webdriver.firefox.options import Options\n",
    "from bs4 import BeautifulSoup\n",
    "\n",
    "from time import sleep"
   ]
  },
  {
   "cell_type": "code",
   "execution_count": 22,
   "id": "9e93b476-97ee-4724-ab68-cee3dcc4387e",
   "metadata": {},
   "outputs": [],
   "source": [
    "# Функция для ожидания кликабельного элемента\n",
    "def wait_click_func(*args):\n",
    "    wait = WebDriverWait(driver, timeout=10)\n",
    "    wait.until(EC.element_to_be_clickable(args)).click()\n",
    "\n",
    "if __name__ == '__main__':\n",
    "\n",
    "    url = 'https://apps.sentinel-hub.com/eo-browser'\n",
    "    \n",
    "    options = Options()\n",
    "    options.set_preference(\"browser.download.folderList\", 2)\n",
    "    options.set_preference(\"browser.download.manager.showWhenStarting\", False)\n",
    "    options.set_preference(\"browser.download.dir\", \"D:\\Github_proj\\Brics2024_satellite_fields\\data\")\n",
    "    #options.set_preference(\"browser.helperApps.neverAsk.saveToDisk\", \"application/x-gzip\")\n",
    "    \n",
    "    driver = webdriver.Firefox(options=options)\n",
    "    driver.get(url)\n",
    "    driver.maximize_window()\n",
    "    \n",
    "    # Нажатие кнопки использования без авторизации\n",
    "    wait_click_func(By.XPATH, \"//div[@class='eob-btn anon-btn']\")\n",
    "    \n",
    "    # Нажатие кнопки для пропуска туториала\n",
    "    wait_click_func(By.XPATH, \"//button[@class='tutorial-button tutorial-closebutton']\")\n",
    "    \n",
    "    # Ввод местоположения откуда хотим снимки\n",
    "    place = \"Moscow\"\n",
    "    driver.find_element(By.XPATH, '//input[@placeholder=\"Go to Place\"]').send_keys(place)\n",
    "    wait_click_func(By.XPATH, \"//div[@class='search-item']\")\n",
    "    \n",
    "    # Нажатие кнопки поиска снимков\n",
    "    wait_click_func(By.XPATH, \"//div[@class='search-btn-wrapper']\")\n",
    "    #print(driver.find_element(By.XPATH, \"//div[@class='tools-container']\").get_attribute('innerHTML'))\n",
    "    #driver.find_element(By.XPATH, \"//li[@id='SearchTabButton']\").click()\n",
    "    \n",
    "    # Нажатие на первый снимок\n",
    "    sleep(2)\n",
    "    wait_click_func(By.XPATH, \"//div[@id='SearchTab']//div[@class='results']//img[@class='preview-image']\")\n",
    "    \n",
    "    # Найти все снимки #print(driver.find_element(By.XPATH, \"//div[@id='SearchTab']//div[@class='results']//div[@class='results-list']\").find_elements(By.CLASS_NAME,'result-item'))\n",
    "    # Если есть несколько вариантов, нажимаем на первый\n",
    "    sleep(1)\n",
    "    if driver.find_elements(By.CLASS_NAME, 'rodal-dialog rodal-slideUp-enter'):\n",
    "        wait_click_func(By.XPATH, \"//div[@class='results-panel']//div[@class='result-item']//img[@class='preview-image']\")\n",
    "\n",
    "    # Кнопка центрирования\n",
    "    wait_click_func(By.XPATH, \"//i[@class='fa fa-crosshairs']\")\n",
    "\n",
    "    #Зум\n",
    "    zoom = 13\n",
    "    cur_url = driver.current_url\n",
    "    # print(cur_url)\n",
    "    # print(cur_url[cur_url.find('zoom='):cur_url[cur_url.find('zoom='):].find('&')+len(cur_url[:cur_url.find('zoom=')])])\n",
    "    cur_url = cur_url.replace(cur_url[cur_url.find('zoom='):cur_url[cur_url.find('zoom='):].find('&')+len(cur_url[:cur_url.find('zoom=')])], f'zoom={zoom}')\n",
    "    # print(cur_url)\n",
    "    driver.get(cur_url)\n",
    "\n",
    "    # Скачать\n",
    "    # Нажатие кнопки использования без авторизации\n",
    "    wait_click_func(By.XPATH, \"//div[@class='eob-btn anon-btn']\")\n",
    "    \n",
    "    wait_click_func(By.XPATH, \"//img[@alt='download-icon']\")\n",
    "    wait_click_func(By.XPATH, \"//i[@class='fa fa-download']\")\n",
    "    #<i class=\"fa fa-download\"></i>\n",
    "    # page = driver.page_source\n",
    "    # print(page)\n",
    "    # wait_click_func(By.XPATH, \"//path[@class='leaflet-interactive']\")"
   ]
  },
  {
   "cell_type": "code",
   "execution_count": null,
   "id": "88617b1c-b146-4c8c-8600-bbb23fb456ab",
   "metadata": {},
   "outputs": [],
   "source": [
    "<a class=\"eob-btn  full-size \"><i class=\"fa fa-download\"></i>Download</a>"
   ]
  },
  {
   "cell_type": "code",
   "execution_count": null,
   "id": "70de5139-1597-4e61-b06e-8a32972a6acf",
   "metadata": {},
   "outputs": [],
   "source": []
  },
  {
   "cell_type": "code",
   "execution_count": null,
   "id": "b1dfc9fa-745c-45c6-ab28-184f8761d33f",
   "metadata": {},
   "outputs": [],
   "source": []
  },
  {
   "cell_type": "code",
   "execution_count": null,
   "id": "f40bca73-111c-4738-a364-494deff8f845",
   "metadata": {},
   "outputs": [],
   "source": [
    "# Можно зарегистрироваться на бесплатный 30 дневный чтобы работать через апишку и токены"
   ]
  },
  {
   "cell_type": "code",
   "execution_count": 167,
   "id": "7d2d18ee-2b1b-4a5c-b0ac-b2e8ab3e2e09",
   "metadata": {},
   "outputs": [],
   "source": [
    "import requests\n",
    "\n",
    "response = requests.post('https://services.sentinel-hub.com/api/v1/process',\n",
    "  headers={\"Authorization\" : \"Bearer <your_access_token>\"},\n",
    "  json={\n",
    "    \"input\": {\n",
    "        \"bounds\": {\n",
    "            \"bbox\": [\n",
    "                13.822174072265625,\n",
    "                45.85080395917834,\n",
    "                14.55963134765625,\n",
    "                46.29191774991382\n",
    "            ]\n",
    "        },\n",
    "        \"data\": [{\n",
    "            \"type\": \"sentinel-2-l2a\"\n",
    "        }]\n",
    "    },\n",
    "    \"evalscript\": \"\"\"\n",
    "    //VERSION=3\n",
    "\n",
    "    function setup() {\n",
    "      return {\n",
    "        input: [\"B02\", \"B03\", \"B04\"],\n",
    "        output: {\n",
    "          bands: 3\n",
    "        }\n",
    "      };\n",
    "    }\n",
    "\n",
    "    function evaluatePixel(\n",
    "      sample,\n",
    "      scenes,\n",
    "      inputMetadata,\n",
    "      customData,\n",
    "      outputMetadata\n",
    "    ) {\n",
    "      return [2.5 * sample.B04, 2.5 * sample.B03, 2.5 * sample.B02];\n",
    "    }\n",
    "    \"\"\"\n",
    "})"
   ]
  },
  {
   "cell_type": "code",
   "execution_count": 169,
   "id": "bea337df-eb17-4f99-8493-d54bac96ae68",
   "metadata": {},
   "outputs": [
    {
     "data": {
      "text/plain": [
       "<Response [401]>"
      ]
     },
     "execution_count": 169,
     "metadata": {},
     "output_type": "execute_result"
    }
   ],
   "source": [
    "response"
   ]
  }
 ],
 "metadata": {
  "kernelspec": {
   "display_name": "Python 3 (ipykernel)",
   "language": "python",
   "name": "python3"
  },
  "language_info": {
   "codemirror_mode": {
    "name": "ipython",
    "version": 3
   },
   "file_extension": ".py",
   "mimetype": "text/x-python",
   "name": "python",
   "nbconvert_exporter": "python",
   "pygments_lexer": "ipython3",
   "version": "3.11.7"
  }
 },
 "nbformat": 4,
 "nbformat_minor": 5
}
